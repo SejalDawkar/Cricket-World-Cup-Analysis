{
  "nbformat": 4,
  "nbformat_minor": 0,
  "metadata": {
    "colab": {
      "name": "Cricket World Cup Analysis.ipynb",
      "provenance": []
    },
    "kernelspec": {
      "name": "python3",
      "display_name": "Python 3"
    },
    "language_info": {
      "name": "python"
    }
  },
  "cells": [
    {
      "cell_type": "code",
      "metadata": {
        "id": "2ex95j_dCc2l"
      },
      "source": [
        "import pandas as pd\n",
        "from matplotlib import pyplot as plt\n"
      ],
      "execution_count": 1,
      "outputs": []
    },
    {
      "cell_type": "code",
      "metadata": {
        "colab": {
          "resources": {
            "http://localhost:8080/nbextensions/google.colab/files.js": {
              "data": "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",
              "ok": true,
              "headers": [
                [
                  "content-type",
                  "application/javascript"
                ]
              ],
              "status": 200,
              "status_text": ""
            }
          },
          "base_uri": "https://localhost:8080/",
          "height": 140
        },
        "id": "E8Gt1uSNCzlH",
        "outputId": "ca2a0139-ddfd-4c8f-d511-947e1dc26a04"
      },
      "source": [
        "from google.colab import files\n",
        "uploaded = files.upload()\n"
      ],
      "execution_count": 9,
      "outputs": [
        {
          "output_type": "display_data",
          "data": {
            "text/html": [
              "\n",
              "     <input type=\"file\" id=\"files-cb688f2c-00f7-4df1-b40d-17ef4f00d28b\" name=\"files[]\" multiple disabled\n",
              "        style=\"border:none\" />\n",
              "     <output id=\"result-cb688f2c-00f7-4df1-b40d-17ef4f00d28b\">\n",
              "      Upload widget is only available when the cell has been executed in the\n",
              "      current browser session. Please rerun this cell to enable.\n",
              "      </output>\n",
              "      <script src=\"/nbextensions/google.colab/files.js\"></script> "
            ],
            "text/plain": [
              "<IPython.core.display.HTML object>"
            ]
          },
          "metadata": {}
        },
        {
          "output_type": "stream",
          "name": "stdout",
          "text": [
            "Saving Ground_Averages.csv to Ground_Averages (1).csv\n",
            "Saving Bowler_data.csv to Bowler_data (1).csv\n",
            "Saving Batsman_Data.csv to Batsman_Data.csv\n"
          ]
        }
      ]
    },
    {
      "cell_type": "code",
      "metadata": {
        "colab": {
          "resources": {
            "http://localhost:8080/nbextensions/google.colab/files.js": {
              "data": "Ly8gQ29weXJpZ2h0IDIwMTcgR29vZ2xlIExMQwovLwovLyBMaWNlbnNlZCB1bmRlciB0aGUgQXBhY2hlIExpY2Vuc2UsIFZlcnNpb24gMi4wICh0aGUgIkxpY2Vuc2UiKTsKLy8geW91IG1heSBub3QgdXNlIHRoaXMgZmlsZSBleGNlcHQgaW4gY29tcGxpYW5jZSB3aXRoIHRoZSBMaWNlbnNlLgovLyBZb3UgbWF5IG9idGFpbiBhIGNvcHkgb2YgdGhlIExpY2Vuc2UgYXQKLy8KLy8gICAgICBodHRwOi8vd3d3LmFwYWNoZS5vcmcvbGljZW5zZXMvTElDRU5TRS0yLjAKLy8KLy8gVW5sZXNzIHJlcXVpcmVkIGJ5IGFwcGxpY2FibGUgbGF3IG9yIGFncmVlZCB0byBpbiB3cml0aW5nLCBzb2Z0d2FyZQovLyBkaXN0cmlidXRlZCB1bmRlciB0aGUgTGljZW5zZSBpcyBkaXN0cmlidXRlZCBvbiBhbiAiQVMgSVMiIEJBU0lTLAovLyBXSVRIT1VUIFdBUlJBTlRJRVMgT1IgQ09ORElUSU9OUyBPRiBBTlkgS0lORCwgZWl0aGVyIGV4cHJlc3Mgb3IgaW1wbGllZC4KLy8gU2VlIHRoZSBMaWNlbnNlIGZvciB0aGUgc3BlY2lmaWMgbGFuZ3VhZ2UgZ292ZXJuaW5nIHBlcm1pc3Npb25zIGFuZAovLyBsaW1pdGF0aW9ucyB1bmRlciB0aGUgTGljZW5zZS4KCi8qKgogKiBAZmlsZW92ZXJ2aWV3IEhlbHBlcnMgZm9yIGdvb2dsZS5jb2xhYiBQeXRob24gbW9kdWxlLgogKi8KKGZ1bmN0aW9uKHNjb3BlKSB7CmZ1bmN0aW9uIHNwYW4odGV4dCwgc3R5bGVBdHRyaWJ1dGVzID0ge30pIHsKICBjb25zdCBlbGVtZW50ID0gZG9jdW1lbnQuY3JlYXRlRWxlbWVudCgnc3BhbicpOwogIGVsZW1lbnQudGV4dENvbnRlbnQgPSB0ZXh0OwogIGZvciAoY29uc3Qga2V5IG9mIE9iamVjdC5rZXlzKHN0eWxlQXR0cmlidXRlcykpIHsKICAgIGVsZW1lbnQuc3R5bGVba2V5XSA9IHN0eWxlQXR0cmlidXRlc1trZXldOwogIH0KICByZXR1cm4gZWxlbWVudDsKfQoKLy8gTWF4IG51bWJlciBvZiBieXRlcyB3aGljaCB3aWxsIGJlIHVwbG9hZGVkIGF0IGEgdGltZS4KY29uc3QgTUFYX1BBWUxPQURfU0laRSA9IDEwMCAqIDEwMjQ7CgpmdW5jdGlvbiBfdXBsb2FkRmlsZXMoaW5wdXRJZCwgb3V0cHV0SWQpIHsKICBjb25zdCBzdGVwcyA9IHVwbG9hZEZpbGVzU3RlcChpbnB1dElkLCBvdXRwdXRJZCk7CiAgY29uc3Qgb3V0cHV0RWxlbWVudCA9IGRvY3VtZW50LmdldEVsZW1lbnRCeUlkKG91dHB1dElkKTsKICAvLyBDYWNoZSBzdGVwcyBvbiB0aGUgb3V0cHV0RWxlbWVudCB0byBtYWtlIGl0IGF2YWlsYWJsZSBmb3IgdGhlIG5leHQgY2FsbAogIC8vIHRvIHVwbG9hZEZpbGVzQ29udGludWUgZnJvbSBQeXRob24uCiAgb3V0cHV0RWxlbWVudC5zdGVwcyA9IHN0ZXBzOwoKICByZXR1cm4gX3VwbG9hZEZpbGVzQ29udGludWUob3V0cHV0SWQpOwp9CgovLyBUaGlzIGlzIHJvdWdobHkgYW4gYXN5bmMgZ2VuZXJhdG9yIChub3Qgc3VwcG9ydGVkIGluIHRoZSBicm93c2VyIHlldCksCi8vIHdoZXJlIHRoZXJlIGFyZSBtdWx0aXBsZSBhc3luY2hyb25vdXMgc3RlcHMgYW5kIHRoZSBQeXRob24gc2lkZSBpcyBnb2luZwovLyB0byBwb2xsIGZvciBjb21wbGV0aW9uIG9mIGVhY2ggc3RlcC4KLy8gVGhpcyB1c2VzIGEgUHJvbWlzZSB0byBibG9jayB0aGUgcHl0aG9uIHNpZGUgb24gY29tcGxldGlvbiBvZiBlYWNoIHN0ZXAsCi8vIHRoZW4gcGFzc2VzIHRoZSByZXN1bHQgb2YgdGhlIHByZXZpb3VzIHN0ZXAgYXMgdGhlIGlucHV0IHRvIHRoZSBuZXh0IHN0ZXAuCmZ1bmN0aW9uIF91cGxvYWRGaWxlc0NvbnRpbnVlKG91dHB1dElkKSB7CiAgY29uc3Qgb3V0cHV0RWxlbWVudCA9IGRvY3VtZW50LmdldEVsZW1lbnRCeUlkKG91dHB1dElkKTsKICBjb25zdCBzdGVwcyA9IG91dHB1dEVsZW1lbnQuc3RlcHM7CgogIGNvbnN0IG5leHQgPSBzdGVwcy5uZXh0KG91dHB1dEVsZW1lbnQubGFzdFByb21pc2VWYWx1ZSk7CiAgcmV0dXJuIFByb21pc2UucmVzb2x2ZShuZXh0LnZhbHVlLnByb21pc2UpLnRoZW4oKHZhbHVlKSA9PiB7CiAgICAvLyBDYWNoZSB0aGUgbGFzdCBwcm9taXNlIHZhbHVlIHRvIG1ha2UgaXQgYXZhaWxhYmxlIHRvIHRoZSBuZXh0CiAgICAvLyBzdGVwIG9mIHRoZSBnZW5lcmF0b3IuCiAgICBvdXRwdXRFbGVtZW50Lmxhc3RQcm9taXNlVmFsdWUgPSB2YWx1ZTsKICAgIHJldHVybiBuZXh0LnZhbHVlLnJlc3BvbnNlOwogIH0pOwp9CgovKioKICogR2VuZXJhdG9yIGZ1bmN0aW9uIHdoaWNoIGlzIGNhbGxlZCBiZXR3ZWVuIGVhY2ggYXN5bmMgc3RlcCBvZiB0aGUgdXBsb2FkCiAqIHByb2Nlc3MuCiAqIEBwYXJhbSB7c3RyaW5nfSBpbnB1dElkIEVsZW1lbnQgSUQgb2YgdGhlIGlucHV0IGZpbGUgcGlja2VyIGVsZW1lbnQuCiAqIEBwYXJhbSB7c3RyaW5nfSBvdXRwdXRJZCBFbGVtZW50IElEIG9mIHRoZSBvdXRwdXQgZGlzcGxheS4KICogQHJldHVybiB7IUl0ZXJhYmxlPCFPYmplY3Q+fSBJdGVyYWJsZSBvZiBuZXh0IHN0ZXBzLgogKi8KZnVuY3Rpb24qIHVwbG9hZEZpbGVzU3RlcChpbnB1dElkLCBvdXRwdXRJZCkgewogIGNvbnN0IGlucHV0RWxlbWVudCA9IGRvY3VtZW50LmdldEVsZW1lbnRCeUlkKGlucHV0SWQpOwogIGlucHV0RWxlbWVudC5kaXNhYmxlZCA9IGZhbHNlOwoKICBjb25zdCBvdXRwdXRFbGVtZW50ID0gZG9jdW1lbnQuZ2V0RWxlbWVudEJ5SWQob3V0cHV0SWQpOwogIG91dHB1dEVsZW1lbnQuaW5uZXJIVE1MID0gJyc7CgogIGNvbnN0IHBpY2tlZFByb21pc2UgPSBuZXcgUHJvbWlzZSgocmVzb2x2ZSkgPT4gewogICAgaW5wdXRFbGVtZW50LmFkZEV2ZW50TGlzdGVuZXIoJ2NoYW5nZScsIChlKSA9PiB7CiAgICAgIHJlc29sdmUoZS50YXJnZXQuZmlsZXMpOwogICAgfSk7CiAgfSk7CgogIGNvbnN0IGNhbmNlbCA9IGRvY3VtZW50LmNyZWF0ZUVsZW1lbnQoJ2J1dHRvbicpOwogIGlucHV0RWxlbWVudC5wYXJlbnRFbGVtZW50LmFwcGVuZENoaWxkKGNhbmNlbCk7CiAgY2FuY2VsLnRleHRDb250ZW50ID0gJ0NhbmNlbCB1cGxvYWQnOwogIGNvbnN0IGNhbmNlbFByb21pc2UgPSBuZXcgUHJvbWlzZSgocmVzb2x2ZSkgPT4gewogICAgY2FuY2VsLm9uY2xpY2sgPSAoKSA9PiB7CiAgICAgIHJlc29sdmUobnVsbCk7CiAgICB9OwogIH0pOwoKICAvLyBXYWl0IGZvciB0aGUgdXNlciB0byBwaWNrIHRoZSBmaWxlcy4KICBjb25zdCBmaWxlcyA9IHlpZWxkIHsKICAgIHByb21pc2U6IFByb21pc2UucmFjZShbcGlja2VkUHJvbWlzZSwgY2FuY2VsUHJvbWlzZV0pLAogICAgcmVzcG9uc2U6IHsKICAgICAgYWN0aW9uOiAnc3RhcnRpbmcnLAogICAgfQogIH07CgogIGNhbmNlbC5yZW1vdmUoKTsKCiAgLy8gRGlzYWJsZSB0aGUgaW5wdXQgZWxlbWVudCBzaW5jZSBmdXJ0aGVyIHBpY2tzIGFyZSBub3QgYWxsb3dlZC4KICBpbnB1dEVsZW1lbnQuZGlzYWJsZWQgPSB0cnVlOwoKICBpZiAoIWZpbGVzKSB7CiAgICByZXR1cm4gewogICAgICByZXNwb25zZTogewogICAgICAgIGFjdGlvbjogJ2NvbXBsZXRlJywKICAgICAgfQogICAgfTsKICB9CgogIGZvciAoY29uc3QgZmlsZSBvZiBmaWxlcykgewogICAgY29uc3QgbGkgPSBkb2N1bWVudC5jcmVhdGVFbGVtZW50KCdsaScpOwogICAgbGkuYXBwZW5kKHNwYW4oZmlsZS5uYW1lLCB7Zm9udFdlaWdodDogJ2JvbGQnfSkpOwogICAgbGkuYXBwZW5kKHNwYW4oCiAgICAgICAgYCgke2ZpbGUudHlwZSB8fCAnbi9hJ30pIC0gJHtmaWxlLnNpemV9IGJ5dGVzLCBgICsKICAgICAgICBgbGFzdCBtb2RpZmllZDogJHsKICAgICAgICAgICAgZmlsZS5sYXN0TW9kaWZpZWREYXRlID8gZmlsZS5sYXN0TW9kaWZpZWREYXRlLnRvTG9jYWxlRGF0ZVN0cmluZygpIDoKICAgICAgICAgICAgICAgICAgICAgICAgICAgICAgICAgICAgJ24vYSd9IC0gYCkpOwogICAgY29uc3QgcGVyY2VudCA9IHNwYW4oJzAlIGRvbmUnKTsKICAgIGxpLmFwcGVuZENoaWxkKHBlcmNlbnQpOwoKICAgIG91dHB1dEVsZW1lbnQuYXBwZW5kQ2hpbGQobGkpOwoKICAgIGNvbnN0IGZpbGVEYXRhUHJvbWlzZSA9IG5ldyBQcm9taXNlKChyZXNvbHZlKSA9PiB7CiAgICAgIGNvbnN0IHJlYWRlciA9IG5ldyBGaWxlUmVhZGVyKCk7CiAgICAgIHJlYWRlci5vbmxvYWQgPSAoZSkgPT4gewogICAgICAgIHJlc29sdmUoZS50YXJnZXQucmVzdWx0KTsKICAgICAgfTsKICAgICAgcmVhZGVyLnJlYWRBc0FycmF5QnVmZmVyKGZpbGUpOwogICAgfSk7CiAgICAvLyBXYWl0IGZvciB0aGUgZGF0YSB0byBiZSByZWFkeS4KICAgIGxldCBmaWxlRGF0YSA9IHlpZWxkIHsKICAgICAgcHJvbWlzZTogZmlsZURhdGFQcm9taXNlLAogICAgICByZXNwb25zZTogewogICAgICAgIGFjdGlvbjogJ2NvbnRpbnVlJywKICAgICAgfQogICAgfTsKCiAgICAvLyBVc2UgYSBjaHVua2VkIHNlbmRpbmcgdG8gYXZvaWQgbWVzc2FnZSBzaXplIGxpbWl0cy4gU2VlIGIvNjIxMTU2NjAuCiAgICBsZXQgcG9zaXRpb24gPSAwOwogICAgZG8gewogICAgICBjb25zdCBsZW5ndGggPSBNYXRoLm1pbihmaWxlRGF0YS5ieXRlTGVuZ3RoIC0gcG9zaXRpb24sIE1BWF9QQVlMT0FEX1NJWkUpOwogICAgICBjb25zdCBjaHVuayA9IG5ldyBVaW50OEFycmF5KGZpbGVEYXRhLCBwb3NpdGlvbiwgbGVuZ3RoKTsKICAgICAgcG9zaXRpb24gKz0gbGVuZ3RoOwoKICAgICAgY29uc3QgYmFzZTY0ID0gYnRvYShTdHJpbmcuZnJvbUNoYXJDb2RlLmFwcGx5KG51bGwsIGNodW5rKSk7CiAgICAgIHlpZWxkIHsKICAgICAgICByZXNwb25zZTogewogICAgICAgICAgYWN0aW9uOiAnYXBwZW5kJywKICAgICAgICAgIGZpbGU6IGZpbGUubmFtZSwKICAgICAgICAgIGRhdGE6IGJhc2U2NCwKICAgICAgICB9LAogICAgICB9OwoKICAgICAgbGV0IHBlcmNlbnREb25lID0gZmlsZURhdGEuYnl0ZUxlbmd0aCA9PT0gMCA/CiAgICAgICAgICAxMDAgOgogICAgICAgICAgTWF0aC5yb3VuZCgocG9zaXRpb24gLyBmaWxlRGF0YS5ieXRlTGVuZ3RoKSAqIDEwMCk7CiAgICAgIHBlcmNlbnQudGV4dENvbnRlbnQgPSBgJHtwZXJjZW50RG9uZX0lIGRvbmVgOwoKICAgIH0gd2hpbGUgKHBvc2l0aW9uIDwgZmlsZURhdGEuYnl0ZUxlbmd0aCk7CiAgfQoKICAvLyBBbGwgZG9uZS4KICB5aWVsZCB7CiAgICByZXNwb25zZTogewogICAgICBhY3Rpb246ICdjb21wbGV0ZScsCiAgICB9CiAgfTsKfQoKc2NvcGUuZ29vZ2xlID0gc2NvcGUuZ29vZ2xlIHx8IHt9OwpzY29wZS5nb29nbGUuY29sYWIgPSBzY29wZS5nb29nbGUuY29sYWIgfHwge307CnNjb3BlLmdvb2dsZS5jb2xhYi5fZmlsZXMgPSB7CiAgX3VwbG9hZEZpbGVzLAogIF91cGxvYWRGaWxlc0NvbnRpbnVlLAp9Owp9KShzZWxmKTsK",
              "ok": true,
              "headers": [
                [
                  "content-type",
                  "application/javascript"
                ]
              ],
              "status": 200,
              "status_text": ""
            }
          },
          "base_uri": "https://localhost:8080/",
          "height": 106
        },
        "id": "w3-fj7i1EBxv",
        "outputId": "eaa20974-6db4-4906-e1fe-5d9795b52c4d"
      },
      "source": [
        "from google.colab import files\n",
        "uploaded = files.upload()"
      ],
      "execution_count": 10,
      "outputs": [
        {
          "output_type": "display_data",
          "data": {
            "text/html": [
              "\n",
              "     <input type=\"file\" id=\"files-cba4be19-2e96-4d7a-abc4-5a10a2c3e897\" name=\"files[]\" multiple disabled\n",
              "        style=\"border:none\" />\n",
              "     <output id=\"result-cba4be19-2e96-4d7a-abc4-5a10a2c3e897\">\n",
              "      Upload widget is only available when the cell has been executed in the\n",
              "      current browser session. Please rerun this cell to enable.\n",
              "      </output>\n",
              "      <script src=\"/nbextensions/google.colab/files.js\"></script> "
            ],
            "text/plain": [
              "<IPython.core.display.HTML object>"
            ]
          },
          "metadata": {}
        },
        {
          "output_type": "stream",
          "name": "stdout",
          "text": [
            "Saving WC_players.csv to WC_players (1).csv\n",
            "Saving ODI_Match_Totals.csv to ODI_Match_Totals.csv\n"
          ]
        }
      ]
    },
    {
      "cell_type": "code",
      "metadata": {
        "id": "tatHsv_ZEJl7"
      },
      "source": [
        "players=pd.read_csv('WC_players.csv')"
      ],
      "execution_count": 11,
      "outputs": []
    },
    {
      "cell_type": "code",
      "metadata": {
        "id": "r2n3h4LqEP1K"
      },
      "source": [
        "ground_data=pd.read_csv('Ground_Averages.csv')"
      ],
      "execution_count": 12,
      "outputs": []
    },
    {
      "cell_type": "code",
      "metadata": {
        "id": "c2XTa_YuER_w"
      },
      "source": [
        "batsman=pd.read_csv('Batsman_Data.csv')"
      ],
      "execution_count": 13,
      "outputs": []
    },
    {
      "cell_type": "code",
      "metadata": {
        "id": "VhMBY-6oEUld"
      },
      "source": [
        "bowler=pd.read_csv('Bowler_data.csv')"
      ],
      "execution_count": 14,
      "outputs": []
    },
    {
      "cell_type": "code",
      "metadata": {
        "id": "ffUZ-CmNEXc7"
      },
      "source": [
        "odi_total=pd.read_csv('ODI_Match_Totals.csv')"
      ],
      "execution_count": 15,
      "outputs": []
    },
    {
      "cell_type": "code",
      "metadata": {
        "colab": {
          "base_uri": "https://localhost:8080/",
          "height": 203
        },
        "id": "hzwufmkpEbaQ",
        "outputId": "c733caae-d2c1-45f4-d8ee-b2a8bb60ec82"
      },
      "source": [
        "players.head()"
      ],
      "execution_count": 16,
      "outputs": [
        {
          "output_type": "execute_result",
          "data": {
            "text/html": [
              "<div>\n",
              "<style scoped>\n",
              "    .dataframe tbody tr th:only-of-type {\n",
              "        vertical-align: middle;\n",
              "    }\n",
              "\n",
              "    .dataframe tbody tr th {\n",
              "        vertical-align: top;\n",
              "    }\n",
              "\n",
              "    .dataframe thead th {\n",
              "        text-align: right;\n",
              "    }\n",
              "</style>\n",
              "<table border=\"1\" class=\"dataframe\">\n",
              "  <thead>\n",
              "    <tr style=\"text-align: right;\">\n",
              "      <th></th>\n",
              "      <th>Player</th>\n",
              "      <th>ID</th>\n",
              "      <th>Country</th>\n",
              "    </tr>\n",
              "  </thead>\n",
              "  <tbody>\n",
              "    <tr>\n",
              "      <th>0</th>\n",
              "      <td>Gulbadin Naib (c)</td>\n",
              "      <td>352048</td>\n",
              "      <td>Afghanistan</td>\n",
              "    </tr>\n",
              "    <tr>\n",
              "      <th>1</th>\n",
              "      <td>Rashid Khan (vc)</td>\n",
              "      <td>793463</td>\n",
              "      <td>Afghanistan</td>\n",
              "    </tr>\n",
              "    <tr>\n",
              "      <th>2</th>\n",
              "      <td>Aftab Alam</td>\n",
              "      <td>440963</td>\n",
              "      <td>Afghanistan</td>\n",
              "    </tr>\n",
              "    <tr>\n",
              "      <th>3</th>\n",
              "      <td>Asghar Afghan</td>\n",
              "      <td>320652</td>\n",
              "      <td>Afghanistan</td>\n",
              "    </tr>\n",
              "    <tr>\n",
              "      <th>4</th>\n",
              "      <td>Dawlat Zadran</td>\n",
              "      <td>516561</td>\n",
              "      <td>Afghanistan</td>\n",
              "    </tr>\n",
              "  </tbody>\n",
              "</table>\n",
              "</div>"
            ],
            "text/plain": [
              "              Player      ID      Country\n",
              "0  Gulbadin Naib (c)  352048  Afghanistan\n",
              "1   Rashid Khan (vc)  793463  Afghanistan\n",
              "2         Aftab Alam  440963  Afghanistan\n",
              "3      Asghar Afghan  320652  Afghanistan\n",
              "4      Dawlat Zadran  516561  Afghanistan"
            ]
          },
          "metadata": {},
          "execution_count": 16
        }
      ]
    },
    {
      "cell_type": "code",
      "metadata": {
        "id": "OVHCBUDMEdGy"
      },
      "source": [
        "Indian_players=players[players['Country']==\"India\"]"
      ],
      "execution_count": 17,
      "outputs": []
    },
    {
      "cell_type": "code",
      "metadata": {
        "colab": {
          "base_uri": "https://localhost:8080/",
          "height": 511
        },
        "id": "ZX5yawwAEhCv",
        "outputId": "d5182139-3af1-4c29-f454-53c56bb34d79"
      },
      "source": [
        "Indian_players"
      ],
      "execution_count": 18,
      "outputs": [
        {
          "output_type": "execute_result",
          "data": {
            "text/html": [
              "<div>\n",
              "<style scoped>\n",
              "    .dataframe tbody tr th:only-of-type {\n",
              "        vertical-align: middle;\n",
              "    }\n",
              "\n",
              "    .dataframe tbody tr th {\n",
              "        vertical-align: top;\n",
              "    }\n",
              "\n",
              "    .dataframe thead th {\n",
              "        text-align: right;\n",
              "    }\n",
              "</style>\n",
              "<table border=\"1\" class=\"dataframe\">\n",
              "  <thead>\n",
              "    <tr style=\"text-align: right;\">\n",
              "      <th></th>\n",
              "      <th>Player</th>\n",
              "      <th>ID</th>\n",
              "      <th>Country</th>\n",
              "    </tr>\n",
              "  </thead>\n",
              "  <tbody>\n",
              "    <tr>\n",
              "      <th>61</th>\n",
              "      <td>Virat Kohli (c)</td>\n",
              "      <td>253802</td>\n",
              "      <td>India</td>\n",
              "    </tr>\n",
              "    <tr>\n",
              "      <th>62</th>\n",
              "      <td>Rohit Sharma (vc)</td>\n",
              "      <td>34102</td>\n",
              "      <td>India</td>\n",
              "    </tr>\n",
              "    <tr>\n",
              "      <th>63</th>\n",
              "      <td>Shikhar Dhawan</td>\n",
              "      <td>28235</td>\n",
              "      <td>India</td>\n",
              "    </tr>\n",
              "    <tr>\n",
              "      <th>64</th>\n",
              "      <td>K. L. Rahul</td>\n",
              "      <td>422108</td>\n",
              "      <td>India</td>\n",
              "    </tr>\n",
              "    <tr>\n",
              "      <th>65</th>\n",
              "      <td>Vijay Shankar</td>\n",
              "      <td>477021</td>\n",
              "      <td>India</td>\n",
              "    </tr>\n",
              "    <tr>\n",
              "      <th>66</th>\n",
              "      <td>MS Dhoni (wk)</td>\n",
              "      <td>28081</td>\n",
              "      <td>India</td>\n",
              "    </tr>\n",
              "    <tr>\n",
              "      <th>67</th>\n",
              "      <td>Kedar Jadhav</td>\n",
              "      <td>290716</td>\n",
              "      <td>India</td>\n",
              "    </tr>\n",
              "    <tr>\n",
              "      <th>68</th>\n",
              "      <td>Dinesh Karthik</td>\n",
              "      <td>30045</td>\n",
              "      <td>India</td>\n",
              "    </tr>\n",
              "    <tr>\n",
              "      <th>69</th>\n",
              "      <td>Yuzvendra Chahal</td>\n",
              "      <td>430246</td>\n",
              "      <td>India</td>\n",
              "    </tr>\n",
              "    <tr>\n",
              "      <th>70</th>\n",
              "      <td>Kuldeep Yadav</td>\n",
              "      <td>559235</td>\n",
              "      <td>India</td>\n",
              "    </tr>\n",
              "    <tr>\n",
              "      <th>71</th>\n",
              "      <td>Bhuvneshwar Kumar</td>\n",
              "      <td>326016</td>\n",
              "      <td>India</td>\n",
              "    </tr>\n",
              "    <tr>\n",
              "      <th>72</th>\n",
              "      <td>Jasprit Bumrah</td>\n",
              "      <td>625383</td>\n",
              "      <td>India</td>\n",
              "    </tr>\n",
              "    <tr>\n",
              "      <th>73</th>\n",
              "      <td>Hardik Pandya</td>\n",
              "      <td>625371</td>\n",
              "      <td>India</td>\n",
              "    </tr>\n",
              "    <tr>\n",
              "      <th>74</th>\n",
              "      <td>Ravindra Jadeja</td>\n",
              "      <td>234675</td>\n",
              "      <td>India</td>\n",
              "    </tr>\n",
              "    <tr>\n",
              "      <th>75</th>\n",
              "      <td>Mohammed Shami</td>\n",
              "      <td>481896</td>\n",
              "      <td>India</td>\n",
              "    </tr>\n",
              "  </tbody>\n",
              "</table>\n",
              "</div>"
            ],
            "text/plain": [
              "               Player      ID Country\n",
              "61    Virat Kohli (c)  253802   India\n",
              "62  Rohit Sharma (vc)   34102   India\n",
              "63     Shikhar Dhawan   28235   India\n",
              "64        K. L. Rahul  422108   India\n",
              "65      Vijay Shankar  477021   India\n",
              "66      MS Dhoni (wk)   28081   India\n",
              "67       Kedar Jadhav  290716   India\n",
              "68     Dinesh Karthik   30045   India\n",
              "69   Yuzvendra Chahal  430246   India\n",
              "70      Kuldeep Yadav  559235   India\n",
              "71  Bhuvneshwar Kumar  326016   India\n",
              "72     Jasprit Bumrah  625383   India\n",
              "73      Hardik Pandya  625371   India\n",
              "74    Ravindra Jadeja  234675   India\n",
              "75     Mohammed Shami  481896   India"
            ]
          },
          "metadata": {},
          "execution_count": 18
        }
      ]
    },
    {
      "cell_type": "code",
      "metadata": {
        "colab": {
          "base_uri": "https://localhost:8080/",
          "height": 203
        },
        "id": "E0mw1MgDElmw",
        "outputId": "fec73f3c-9c91-4197-8134-9ac91fca7b52"
      },
      "source": [
        "batsman.head()"
      ],
      "execution_count": 19,
      "outputs": [
        {
          "output_type": "execute_result",
          "data": {
            "text/html": [
              "<div>\n",
              "<style scoped>\n",
              "    .dataframe tbody tr th:only-of-type {\n",
              "        vertical-align: middle;\n",
              "    }\n",
              "\n",
              "    .dataframe tbody tr th {\n",
              "        vertical-align: top;\n",
              "    }\n",
              "\n",
              "    .dataframe thead th {\n",
              "        text-align: right;\n",
              "    }\n",
              "</style>\n",
              "<table border=\"1\" class=\"dataframe\">\n",
              "  <thead>\n",
              "    <tr style=\"text-align: right;\">\n",
              "      <th></th>\n",
              "      <th>Unnamed: 0</th>\n",
              "      <th>Bat1</th>\n",
              "      <th>Runs</th>\n",
              "      <th>BF</th>\n",
              "      <th>SR</th>\n",
              "      <th>4s</th>\n",
              "      <th>6s</th>\n",
              "      <th>Opposition</th>\n",
              "      <th>Ground</th>\n",
              "      <th>Start Date</th>\n",
              "      <th>Match_ID</th>\n",
              "      <th>Batsman</th>\n",
              "      <th>Player_ID</th>\n",
              "    </tr>\n",
              "  </thead>\n",
              "  <tbody>\n",
              "    <tr>\n",
              "      <th>0</th>\n",
              "      <td>1</td>\n",
              "      <td>DNB</td>\n",
              "      <td>-</td>\n",
              "      <td>-</td>\n",
              "      <td>-</td>\n",
              "      <td>-</td>\n",
              "      <td>-</td>\n",
              "      <td>v India</td>\n",
              "      <td>Nagpur</td>\n",
              "      <td>18-Dec-09</td>\n",
              "      <td>ODI # 2933</td>\n",
              "      <td>Oshane Thomas</td>\n",
              "      <td>49619</td>\n",
              "    </tr>\n",
              "    <tr>\n",
              "      <th>1</th>\n",
              "      <td>2</td>\n",
              "      <td>DNB</td>\n",
              "      <td>-</td>\n",
              "      <td>-</td>\n",
              "      <td>-</td>\n",
              "      <td>-</td>\n",
              "      <td>-</td>\n",
              "      <td>v India</td>\n",
              "      <td>Kolkata</td>\n",
              "      <td>24-Dec-09</td>\n",
              "      <td>ODI # 2935</td>\n",
              "      <td>Oshane Thomas</td>\n",
              "      <td>49619</td>\n",
              "    </tr>\n",
              "    <tr>\n",
              "      <th>2</th>\n",
              "      <td>3</td>\n",
              "      <td>DNB</td>\n",
              "      <td>-</td>\n",
              "      <td>-</td>\n",
              "      <td>-</td>\n",
              "      <td>-</td>\n",
              "      <td>-</td>\n",
              "      <td>v India</td>\n",
              "      <td>Delhi</td>\n",
              "      <td>27-Dec-09</td>\n",
              "      <td>ODI # 2936</td>\n",
              "      <td>Oshane Thomas</td>\n",
              "      <td>49619</td>\n",
              "    </tr>\n",
              "    <tr>\n",
              "      <th>3</th>\n",
              "      <td>4</td>\n",
              "      <td>DNB</td>\n",
              "      <td>-</td>\n",
              "      <td>-</td>\n",
              "      <td>-</td>\n",
              "      <td>-</td>\n",
              "      <td>-</td>\n",
              "      <td>v Bangladesh</td>\n",
              "      <td>Dhaka</td>\n",
              "      <td>04-Jan-10</td>\n",
              "      <td>ODI # 2937</td>\n",
              "      <td>Oshane Thomas</td>\n",
              "      <td>49619</td>\n",
              "    </tr>\n",
              "    <tr>\n",
              "      <th>4</th>\n",
              "      <td>5</td>\n",
              "      <td>DNB</td>\n",
              "      <td>-</td>\n",
              "      <td>-</td>\n",
              "      <td>-</td>\n",
              "      <td>-</td>\n",
              "      <td>-</td>\n",
              "      <td>v India</td>\n",
              "      <td>Dhaka</td>\n",
              "      <td>05-Jan-10</td>\n",
              "      <td>ODI # 2938</td>\n",
              "      <td>Oshane Thomas</td>\n",
              "      <td>49619</td>\n",
              "    </tr>\n",
              "  </tbody>\n",
              "</table>\n",
              "</div>"
            ],
            "text/plain": [
              "   Unnamed: 0 Bat1 Runs BF  ... Start Date    Match_ID        Batsman Player_ID\n",
              "0           1  DNB    -  -  ...  18-Dec-09  ODI # 2933  Oshane Thomas     49619\n",
              "1           2  DNB    -  -  ...  24-Dec-09  ODI # 2935  Oshane Thomas     49619\n",
              "2           3  DNB    -  -  ...  27-Dec-09  ODI # 2936  Oshane Thomas     49619\n",
              "3           4  DNB    -  -  ...  04-Jan-10  ODI # 2937  Oshane Thomas     49619\n",
              "4           5  DNB    -  -  ...  05-Jan-10  ODI # 2938  Oshane Thomas     49619\n",
              "\n",
              "[5 rows x 13 columns]"
            ]
          },
          "metadata": {},
          "execution_count": 19
        }
      ]
    },
    {
      "cell_type": "code",
      "metadata": {
        "colab": {
          "base_uri": "https://localhost:8080/",
          "height": 203
        },
        "id": "zTji_H6jEqrJ",
        "outputId": "b32bd99e-b487-41b6-99b9-e27be704a773"
      },
      "source": [
        "odi_total.head()"
      ],
      "execution_count": 20,
      "outputs": [
        {
          "output_type": "execute_result",
          "data": {
            "text/html": [
              "<div>\n",
              "<style scoped>\n",
              "    .dataframe tbody tr th:only-of-type {\n",
              "        vertical-align: middle;\n",
              "    }\n",
              "\n",
              "    .dataframe tbody tr th {\n",
              "        vertical-align: top;\n",
              "    }\n",
              "\n",
              "    .dataframe thead th {\n",
              "        text-align: right;\n",
              "    }\n",
              "</style>\n",
              "<table border=\"1\" class=\"dataframe\">\n",
              "  <thead>\n",
              "    <tr style=\"text-align: right;\">\n",
              "      <th></th>\n",
              "      <th>Unnamed: 0</th>\n",
              "      <th>Score</th>\n",
              "      <th>Overs</th>\n",
              "      <th>RPO</th>\n",
              "      <th>Target</th>\n",
              "      <th>Inns</th>\n",
              "      <th>Result</th>\n",
              "      <th>Opposition</th>\n",
              "      <th>Ground</th>\n",
              "      <th>Start Date</th>\n",
              "      <th>Match_ID</th>\n",
              "      <th>Country</th>\n",
              "      <th>Country_ID</th>\n",
              "    </tr>\n",
              "  </thead>\n",
              "  <tbody>\n",
              "    <tr>\n",
              "      <th>0</th>\n",
              "      <td>412</td>\n",
              "      <td>250</td>\n",
              "      <td>48.3</td>\n",
              "      <td>5.15</td>\n",
              "      <td>NaN</td>\n",
              "      <td>1</td>\n",
              "      <td>won</td>\n",
              "      <td>v India</td>\n",
              "      <td>Kolkata</td>\n",
              "      <td>3 Jan 2013</td>\n",
              "      <td>ODI # 3315</td>\n",
              "      <td>Pakistan</td>\n",
              "      <td>7</td>\n",
              "    </tr>\n",
              "    <tr>\n",
              "      <th>1</th>\n",
              "      <td>680</td>\n",
              "      <td>165</td>\n",
              "      <td>48.0</td>\n",
              "      <td>3.43</td>\n",
              "      <td>251.0</td>\n",
              "      <td>2</td>\n",
              "      <td>lost</td>\n",
              "      <td>v Pakistan</td>\n",
              "      <td>Kolkata</td>\n",
              "      <td>3 Jan 2013</td>\n",
              "      <td>ODI # 3315</td>\n",
              "      <td>India</td>\n",
              "      <td>6</td>\n",
              "    </tr>\n",
              "    <tr>\n",
              "      <th>2</th>\n",
              "      <td>413</td>\n",
              "      <td>157</td>\n",
              "      <td>48.5</td>\n",
              "      <td>3.21</td>\n",
              "      <td>168.0</td>\n",
              "      <td>2</td>\n",
              "      <td>lost</td>\n",
              "      <td>v India</td>\n",
              "      <td>Delhi</td>\n",
              "      <td>6 Jan 2013</td>\n",
              "      <td>ODI # 3316</td>\n",
              "      <td>Pakistan</td>\n",
              "      <td>7</td>\n",
              "    </tr>\n",
              "    <tr>\n",
              "      <th>3</th>\n",
              "      <td>681</td>\n",
              "      <td>167</td>\n",
              "      <td>43.4</td>\n",
              "      <td>3.82</td>\n",
              "      <td>NaN</td>\n",
              "      <td>1</td>\n",
              "      <td>won</td>\n",
              "      <td>v Pakistan</td>\n",
              "      <td>Delhi</td>\n",
              "      <td>6 Jan 2013</td>\n",
              "      <td>ODI # 3316</td>\n",
              "      <td>India</td>\n",
              "      <td>6</td>\n",
              "    </tr>\n",
              "    <tr>\n",
              "      <th>4</th>\n",
              "      <td>117</td>\n",
              "      <td>198</td>\n",
              "      <td>40.0</td>\n",
              "      <td>4.95</td>\n",
              "      <td>306.0</td>\n",
              "      <td>2</td>\n",
              "      <td>lost</td>\n",
              "      <td>v Australia</td>\n",
              "      <td>Melbourne</td>\n",
              "      <td>11 Jan 2013</td>\n",
              "      <td>ODI # 3317</td>\n",
              "      <td>SriLanka</td>\n",
              "      <td>8</td>\n",
              "    </tr>\n",
              "  </tbody>\n",
              "</table>\n",
              "</div>"
            ],
            "text/plain": [
              "   Unnamed: 0 Score  Overs   RPO  ...   Start Date    Match_ID   Country Country_ID\n",
              "0         412   250   48.3  5.15  ...   3 Jan 2013  ODI # 3315  Pakistan          7\n",
              "1         680   165   48.0  3.43  ...   3 Jan 2013  ODI # 3315     India          6\n",
              "2         413   157   48.5  3.21  ...   6 Jan 2013  ODI # 3316  Pakistan          7\n",
              "3         681   167   43.4  3.82  ...   6 Jan 2013  ODI # 3316     India          6\n",
              "4         117   198   40.0  4.95  ...  11 Jan 2013  ODI # 3317  SriLanka          8\n",
              "\n",
              "[5 rows x 13 columns]"
            ]
          },
          "metadata": {},
          "execution_count": 20
        }
      ]
    },
    {
      "cell_type": "code",
      "metadata": {
        "id": "8ZtDT8ArEt69"
      },
      "source": [
        "India = odi_total[odi_total['Country']=='India']  #India Analysis"
      ],
      "execution_count": 21,
      "outputs": []
    },
    {
      "cell_type": "code",
      "metadata": {
        "colab": {
          "base_uri": "https://localhost:8080/",
          "height": 417
        },
        "id": "4K-XXFB7Ezhy",
        "outputId": "c72b66d3-08ba-4f26-fef4-4a07811ea04f"
      },
      "source": [
        "India"
      ],
      "execution_count": 22,
      "outputs": [
        {
          "output_type": "execute_result",
          "data": {
            "text/html": [
              "<div>\n",
              "<style scoped>\n",
              "    .dataframe tbody tr th:only-of-type {\n",
              "        vertical-align: middle;\n",
              "    }\n",
              "\n",
              "    .dataframe tbody tr th {\n",
              "        vertical-align: top;\n",
              "    }\n",
              "\n",
              "    .dataframe thead th {\n",
              "        text-align: right;\n",
              "    }\n",
              "</style>\n",
              "<table border=\"1\" class=\"dataframe\">\n",
              "  <thead>\n",
              "    <tr style=\"text-align: right;\">\n",
              "      <th></th>\n",
              "      <th>Unnamed: 0</th>\n",
              "      <th>Score</th>\n",
              "      <th>Overs</th>\n",
              "      <th>RPO</th>\n",
              "      <th>Target</th>\n",
              "      <th>Inns</th>\n",
              "      <th>Result</th>\n",
              "      <th>Opposition</th>\n",
              "      <th>Ground</th>\n",
              "      <th>Start Date</th>\n",
              "      <th>Match_ID</th>\n",
              "      <th>Country</th>\n",
              "      <th>Country_ID</th>\n",
              "    </tr>\n",
              "  </thead>\n",
              "  <tbody>\n",
              "    <tr>\n",
              "      <th>1</th>\n",
              "      <td>680</td>\n",
              "      <td>165</td>\n",
              "      <td>48.0</td>\n",
              "      <td>3.43</td>\n",
              "      <td>251.0</td>\n",
              "      <td>2</td>\n",
              "      <td>lost</td>\n",
              "      <td>v Pakistan</td>\n",
              "      <td>Kolkata</td>\n",
              "      <td>3 Jan 2013</td>\n",
              "      <td>ODI # 3315</td>\n",
              "      <td>India</td>\n",
              "      <td>6</td>\n",
              "    </tr>\n",
              "    <tr>\n",
              "      <th>3</th>\n",
              "      <td>681</td>\n",
              "      <td>167</td>\n",
              "      <td>43.4</td>\n",
              "      <td>3.82</td>\n",
              "      <td>NaN</td>\n",
              "      <td>1</td>\n",
              "      <td>won</td>\n",
              "      <td>v Pakistan</td>\n",
              "      <td>Delhi</td>\n",
              "      <td>6 Jan 2013</td>\n",
              "      <td>ODI # 3316</td>\n",
              "      <td>India</td>\n",
              "      <td>6</td>\n",
              "    </tr>\n",
              "    <tr>\n",
              "      <th>6</th>\n",
              "      <td>682</td>\n",
              "      <td>316/9</td>\n",
              "      <td>50.0</td>\n",
              "      <td>6.32</td>\n",
              "      <td>326.0</td>\n",
              "      <td>2</td>\n",
              "      <td>lost</td>\n",
              "      <td>v England</td>\n",
              "      <td>Rajkot</td>\n",
              "      <td>11 Jan 2013</td>\n",
              "      <td>ODI # 3318</td>\n",
              "      <td>India</td>\n",
              "      <td>6</td>\n",
              "    </tr>\n",
              "    <tr>\n",
              "      <th>10</th>\n",
              "      <td>683</td>\n",
              "      <td>285/6</td>\n",
              "      <td>50.0</td>\n",
              "      <td>5.70</td>\n",
              "      <td>NaN</td>\n",
              "      <td>1</td>\n",
              "      <td>won</td>\n",
              "      <td>v England</td>\n",
              "      <td>Kochi</td>\n",
              "      <td>15 Jan 2013</td>\n",
              "      <td>ODI # 3320</td>\n",
              "      <td>India</td>\n",
              "      <td>6</td>\n",
              "    </tr>\n",
              "    <tr>\n",
              "      <th>14</th>\n",
              "      <td>684</td>\n",
              "      <td>157/3</td>\n",
              "      <td>28.1</td>\n",
              "      <td>5.57</td>\n",
              "      <td>156.0</td>\n",
              "      <td>2</td>\n",
              "      <td>won</td>\n",
              "      <td>v England</td>\n",
              "      <td>Ranchi</td>\n",
              "      <td>19 Jan 2013</td>\n",
              "      <td>ODI # 3322</td>\n",
              "      <td>India</td>\n",
              "      <td>6</td>\n",
              "    </tr>\n",
              "    <tr>\n",
              "      <th>...</th>\n",
              "      <td>...</td>\n",
              "      <td>...</td>\n",
              "      <td>...</td>\n",
              "      <td>...</td>\n",
              "      <td>...</td>\n",
              "      <td>...</td>\n",
              "      <td>...</td>\n",
              "      <td>...</td>\n",
              "      <td>...</td>\n",
              "      <td>...</td>\n",
              "      <td>...</td>\n",
              "      <td>...</td>\n",
              "      <td>...</td>\n",
              "    </tr>\n",
              "    <tr>\n",
              "      <th>1239</th>\n",
              "      <td>831</td>\n",
              "      <td>240/4</td>\n",
              "      <td>48.2</td>\n",
              "      <td>4.96</td>\n",
              "      <td>237.0</td>\n",
              "      <td>2</td>\n",
              "      <td>won</td>\n",
              "      <td>v Australia</td>\n",
              "      <td>Hyderabad (Deccan)</td>\n",
              "      <td>2 Mar 2019</td>\n",
              "      <td>ODI # 4102</td>\n",
              "      <td>India</td>\n",
              "      <td>6</td>\n",
              "    </tr>\n",
              "    <tr>\n",
              "      <th>1246</th>\n",
              "      <td>832</td>\n",
              "      <td>250</td>\n",
              "      <td>48.2</td>\n",
              "      <td>5.17</td>\n",
              "      <td>NaN</td>\n",
              "      <td>1</td>\n",
              "      <td>won</td>\n",
              "      <td>v Australia</td>\n",
              "      <td>Nagpur</td>\n",
              "      <td>5 Mar 2019</td>\n",
              "      <td>ODI # 4106</td>\n",
              "      <td>India</td>\n",
              "      <td>6</td>\n",
              "    </tr>\n",
              "    <tr>\n",
              "      <th>1251</th>\n",
              "      <td>833</td>\n",
              "      <td>281</td>\n",
              "      <td>48.2</td>\n",
              "      <td>5.81</td>\n",
              "      <td>314.0</td>\n",
              "      <td>2</td>\n",
              "      <td>lost</td>\n",
              "      <td>v Australia</td>\n",
              "      <td>Ranchi</td>\n",
              "      <td>8 Mar 2019</td>\n",
              "      <td>ODI # 4109</td>\n",
              "      <td>India</td>\n",
              "      <td>6</td>\n",
              "    </tr>\n",
              "    <tr>\n",
              "      <th>1254</th>\n",
              "      <td>834</td>\n",
              "      <td>358/9</td>\n",
              "      <td>50.0</td>\n",
              "      <td>7.16</td>\n",
              "      <td>NaN</td>\n",
              "      <td>1</td>\n",
              "      <td>lost</td>\n",
              "      <td>v Australia</td>\n",
              "      <td>Mohali</td>\n",
              "      <td>10 Mar 2019</td>\n",
              "      <td>ODI # 4111</td>\n",
              "      <td>India</td>\n",
              "      <td>6</td>\n",
              "    </tr>\n",
              "    <tr>\n",
              "      <th>1258</th>\n",
              "      <td>835</td>\n",
              "      <td>237</td>\n",
              "      <td>50.0</td>\n",
              "      <td>4.74</td>\n",
              "      <td>273.0</td>\n",
              "      <td>2</td>\n",
              "      <td>lost</td>\n",
              "      <td>v Australia</td>\n",
              "      <td>Delhi</td>\n",
              "      <td>13 Mar 2019</td>\n",
              "      <td>ODI # 4113</td>\n",
              "      <td>India</td>\n",
              "      <td>6</td>\n",
              "    </tr>\n",
              "  </tbody>\n",
              "</table>\n",
              "<p>156 rows × 13 columns</p>\n",
              "</div>"
            ],
            "text/plain": [
              "      Unnamed: 0  Score  Overs  ...    Match_ID  Country  Country_ID\n",
              "1            680    165   48.0  ...  ODI # 3315    India           6\n",
              "3            681    167   43.4  ...  ODI # 3316    India           6\n",
              "6            682  316/9   50.0  ...  ODI # 3318    India           6\n",
              "10           683  285/6   50.0  ...  ODI # 3320    India           6\n",
              "14           684  157/3   28.1  ...  ODI # 3322    India           6\n",
              "...          ...    ...    ...  ...         ...      ...         ...\n",
              "1239         831  240/4   48.2  ...  ODI # 4102    India           6\n",
              "1246         832    250   48.2  ...  ODI # 4106    India           6\n",
              "1251         833    281   48.2  ...  ODI # 4109    India           6\n",
              "1254         834  358/9   50.0  ...  ODI # 4111    India           6\n",
              "1258         835    237   50.0  ...  ODI # 4113    India           6\n",
              "\n",
              "[156 rows x 13 columns]"
            ]
          },
          "metadata": {},
          "execution_count": 22
        }
      ]
    },
    {
      "cell_type": "code",
      "metadata": {
        "id": "7J8k-swfE2ef"
      },
      "source": [
        "India_win = India[India['Result']=='won']"
      ],
      "execution_count": 23,
      "outputs": []
    },
    {
      "cell_type": "code",
      "metadata": {
        "colab": {
          "base_uri": "https://localhost:8080/",
          "height": 417
        },
        "id": "QksynlhZE7bw",
        "outputId": "81318880-963f-41c6-e0bf-6bb58c416e30"
      },
      "source": [
        "India_win"
      ],
      "execution_count": 24,
      "outputs": [
        {
          "output_type": "execute_result",
          "data": {
            "text/html": [
              "<div>\n",
              "<style scoped>\n",
              "    .dataframe tbody tr th:only-of-type {\n",
              "        vertical-align: middle;\n",
              "    }\n",
              "\n",
              "    .dataframe tbody tr th {\n",
              "        vertical-align: top;\n",
              "    }\n",
              "\n",
              "    .dataframe thead th {\n",
              "        text-align: right;\n",
              "    }\n",
              "</style>\n",
              "<table border=\"1\" class=\"dataframe\">\n",
              "  <thead>\n",
              "    <tr style=\"text-align: right;\">\n",
              "      <th></th>\n",
              "      <th>Unnamed: 0</th>\n",
              "      <th>Score</th>\n",
              "      <th>Overs</th>\n",
              "      <th>RPO</th>\n",
              "      <th>Target</th>\n",
              "      <th>Inns</th>\n",
              "      <th>Result</th>\n",
              "      <th>Opposition</th>\n",
              "      <th>Ground</th>\n",
              "      <th>Start Date</th>\n",
              "      <th>Match_ID</th>\n",
              "      <th>Country</th>\n",
              "      <th>Country_ID</th>\n",
              "    </tr>\n",
              "  </thead>\n",
              "  <tbody>\n",
              "    <tr>\n",
              "      <th>3</th>\n",
              "      <td>681</td>\n",
              "      <td>167</td>\n",
              "      <td>43.4</td>\n",
              "      <td>3.82</td>\n",
              "      <td>NaN</td>\n",
              "      <td>1</td>\n",
              "      <td>won</td>\n",
              "      <td>v Pakistan</td>\n",
              "      <td>Delhi</td>\n",
              "      <td>6 Jan 2013</td>\n",
              "      <td>ODI # 3316</td>\n",
              "      <td>India</td>\n",
              "      <td>6</td>\n",
              "    </tr>\n",
              "    <tr>\n",
              "      <th>10</th>\n",
              "      <td>683</td>\n",
              "      <td>285/6</td>\n",
              "      <td>50.0</td>\n",
              "      <td>5.70</td>\n",
              "      <td>NaN</td>\n",
              "      <td>1</td>\n",
              "      <td>won</td>\n",
              "      <td>v England</td>\n",
              "      <td>Kochi</td>\n",
              "      <td>15 Jan 2013</td>\n",
              "      <td>ODI # 3320</td>\n",
              "      <td>India</td>\n",
              "      <td>6</td>\n",
              "    </tr>\n",
              "    <tr>\n",
              "      <th>14</th>\n",
              "      <td>684</td>\n",
              "      <td>157/3</td>\n",
              "      <td>28.1</td>\n",
              "      <td>5.57</td>\n",
              "      <td>156.0</td>\n",
              "      <td>2</td>\n",
              "      <td>won</td>\n",
              "      <td>v England</td>\n",
              "      <td>Ranchi</td>\n",
              "      <td>19 Jan 2013</td>\n",
              "      <td>ODI # 3322</td>\n",
              "      <td>India</td>\n",
              "      <td>6</td>\n",
              "    </tr>\n",
              "    <tr>\n",
              "      <th>24</th>\n",
              "      <td>685</td>\n",
              "      <td>258/5</td>\n",
              "      <td>47.3</td>\n",
              "      <td>5.43</td>\n",
              "      <td>258.0</td>\n",
              "      <td>2</td>\n",
              "      <td>won</td>\n",
              "      <td>v England</td>\n",
              "      <td>Mohali</td>\n",
              "      <td>23 Jan 2013</td>\n",
              "      <td>ODI # 3327</td>\n",
              "      <td>India</td>\n",
              "      <td>6</td>\n",
              "    </tr>\n",
              "    <tr>\n",
              "      <th>81</th>\n",
              "      <td>687</td>\n",
              "      <td>331/7</td>\n",
              "      <td>50.0</td>\n",
              "      <td>6.62</td>\n",
              "      <td>NaN</td>\n",
              "      <td>1</td>\n",
              "      <td>won</td>\n",
              "      <td>v South Africa</td>\n",
              "      <td>Cardiff</td>\n",
              "      <td>6 Jun 2013</td>\n",
              "      <td>ODI # 3363</td>\n",
              "      <td>India</td>\n",
              "      <td>6</td>\n",
              "    </tr>\n",
              "    <tr>\n",
              "      <th>...</th>\n",
              "      <td>...</td>\n",
              "      <td>...</td>\n",
              "      <td>...</td>\n",
              "      <td>...</td>\n",
              "      <td>...</td>\n",
              "      <td>...</td>\n",
              "      <td>...</td>\n",
              "      <td>...</td>\n",
              "      <td>...</td>\n",
              "      <td>...</td>\n",
              "      <td>...</td>\n",
              "      <td>...</td>\n",
              "      <td>...</td>\n",
              "    </tr>\n",
              "    <tr>\n",
              "      <th>1212</th>\n",
              "      <td>827</td>\n",
              "      <td>324/4</td>\n",
              "      <td>50.0</td>\n",
              "      <td>6.48</td>\n",
              "      <td>NaN</td>\n",
              "      <td>1</td>\n",
              "      <td>won</td>\n",
              "      <td>v New Zealand</td>\n",
              "      <td>Mount Maunganui</td>\n",
              "      <td>26 Jan 2019</td>\n",
              "      <td>ODI # 4085</td>\n",
              "      <td>India</td>\n",
              "      <td>6</td>\n",
              "    </tr>\n",
              "    <tr>\n",
              "      <th>1216</th>\n",
              "      <td>828</td>\n",
              "      <td>245/3</td>\n",
              "      <td>43.0</td>\n",
              "      <td>5.69</td>\n",
              "      <td>244.0</td>\n",
              "      <td>2</td>\n",
              "      <td>won</td>\n",
              "      <td>v New Zealand</td>\n",
              "      <td>Mount Maunganui</td>\n",
              "      <td>28 Jan 2019</td>\n",
              "      <td>ODI # 4088</td>\n",
              "      <td>India</td>\n",
              "      <td>6</td>\n",
              "    </tr>\n",
              "    <tr>\n",
              "      <th>1222</th>\n",
              "      <td>830</td>\n",
              "      <td>252</td>\n",
              "      <td>49.5</td>\n",
              "      <td>5.05</td>\n",
              "      <td>NaN</td>\n",
              "      <td>1</td>\n",
              "      <td>won</td>\n",
              "      <td>v New Zealand</td>\n",
              "      <td>Wellington</td>\n",
              "      <td>3 Feb 2019</td>\n",
              "      <td>ODI # 4092</td>\n",
              "      <td>India</td>\n",
              "      <td>6</td>\n",
              "    </tr>\n",
              "    <tr>\n",
              "      <th>1239</th>\n",
              "      <td>831</td>\n",
              "      <td>240/4</td>\n",
              "      <td>48.2</td>\n",
              "      <td>4.96</td>\n",
              "      <td>237.0</td>\n",
              "      <td>2</td>\n",
              "      <td>won</td>\n",
              "      <td>v Australia</td>\n",
              "      <td>Hyderabad (Deccan)</td>\n",
              "      <td>2 Mar 2019</td>\n",
              "      <td>ODI # 4102</td>\n",
              "      <td>India</td>\n",
              "      <td>6</td>\n",
              "    </tr>\n",
              "    <tr>\n",
              "      <th>1246</th>\n",
              "      <td>832</td>\n",
              "      <td>250</td>\n",
              "      <td>48.2</td>\n",
              "      <td>5.17</td>\n",
              "      <td>NaN</td>\n",
              "      <td>1</td>\n",
              "      <td>won</td>\n",
              "      <td>v Australia</td>\n",
              "      <td>Nagpur</td>\n",
              "      <td>5 Mar 2019</td>\n",
              "      <td>ODI # 4106</td>\n",
              "      <td>India</td>\n",
              "      <td>6</td>\n",
              "    </tr>\n",
              "  </tbody>\n",
              "</table>\n",
              "<p>99 rows × 13 columns</p>\n",
              "</div>"
            ],
            "text/plain": [
              "      Unnamed: 0  Score  Overs  ...    Match_ID  Country  Country_ID\n",
              "3            681    167   43.4  ...  ODI # 3316    India           6\n",
              "10           683  285/6   50.0  ...  ODI # 3320    India           6\n",
              "14           684  157/3   28.1  ...  ODI # 3322    India           6\n",
              "24           685  258/5   47.3  ...  ODI # 3327    India           6\n",
              "81           687  331/7   50.0  ...  ODI # 3363    India           6\n",
              "...          ...    ...    ...  ...         ...      ...         ...\n",
              "1212         827  324/4   50.0  ...  ODI # 4085    India           6\n",
              "1216         828  245/3   43.0  ...  ODI # 4088    India           6\n",
              "1222         830    252   49.5  ...  ODI # 4092    India           6\n",
              "1239         831  240/4   48.2  ...  ODI # 4102    India           6\n",
              "1246         832    250   48.2  ...  ODI # 4106    India           6\n",
              "\n",
              "[99 rows x 13 columns]"
            ]
          },
          "metadata": {},
          "execution_count": 24
        }
      ]
    },
    {
      "cell_type": "code",
      "metadata": {
        "colab": {
          "base_uri": "https://localhost:8080/"
        },
        "id": "NjP8CPN8E-UM",
        "outputId": "cff4581a-2433-4c30-f491-958a69e55d78"
      },
      "source": [
        "India_win['Opposition'].value_counts()"
      ],
      "execution_count": 25,
      "outputs": [
        {
          "output_type": "execute_result",
          "data": {
            "text/plain": [
              "v Sri Lanka       15\n",
              "v West Indies     13\n",
              "v Australia       12\n",
              "v Zimbabwe        12\n",
              "v England         10\n",
              "v South Africa    10\n",
              "v New Zealand      9\n",
              "v Bangladesh       8\n",
              "v Pakistan         6\n",
              "v U.A.E.           1\n",
              "v Hong Kong        1\n",
              "v Afghanistan      1\n",
              "v Ireland          1\n",
              "Name: Opposition, dtype: int64"
            ]
          },
          "metadata": {},
          "execution_count": 25
        }
      ]
    },
    {
      "cell_type": "code",
      "metadata": {
        "colab": {
          "base_uri": "https://localhost:8080/",
          "height": 320
        },
        "id": "Scuecmo9FCJw",
        "outputId": "6b0fe68f-5682-4e4f-9d0d-d642240303f0"
      },
      "source": [
        "plt.figure(figsize=(8,5))\n",
        "plt.bar(list(India_win['Opposition'].value_counts()[0:5].keys()),list(India_win['Opposition'].value_counts()[0:5]),color=\"g\")\n",
        "plt.show()     "
      ],
      "execution_count": 26,
      "outputs": [
        {
          "output_type": "display_data",
          "data": {
            "image/png": "[encoded data removed]",
            "text/plain": [
              "<Figure size 576x360 with 1 Axes>"
            ]
          },
          "metadata": {
            "needs_background": "light"
          }
        }
      ]
    },
    {
      "cell_type": "code",
      "metadata": {
        "id": "SIQsOzjnFGCC"
      },
      "source": [
        "India_loss = India[India['Result']=='lost']"
      ],
      "execution_count": 27,
      "outputs": []
    },
    {
      "cell_type": "code",
      "metadata": {
        "colab": {
          "base_uri": "https://localhost:8080/"
        },
        "id": "bEqPcG-qFJe9",
        "outputId": "76223f2d-6fd5-4570-99dc-7f9ff7ce2265"
      },
      "source": [
        "India_loss['Opposition'].value_counts()"
      ],
      "execution_count": 28,
      "outputs": [
        {
          "output_type": "execute_result",
          "data": {
            "text/plain": [
              "v Australia       13\n",
              "v New Zealand      8\n",
              "v England          8\n",
              "v South Africa     6\n",
              "v West Indies      5\n",
              "v Sri Lanka        4\n",
              "v Pakistan         3\n",
              "v Bangladesh       2\n",
              "Name: Opposition, dtype: int64"
            ]
          },
          "metadata": {},
          "execution_count": 28
        }
      ]
    },
    {
      "cell_type": "code",
      "metadata": {
        "colab": {
          "base_uri": "https://localhost:8080/",
          "height": 320
        },
        "id": "oMWff2fMFMRD",
        "outputId": "9d647f7c-bcb1-4b03-f291-a39ee9415191"
      },
      "source": [
        "plt.figure(figsize=(8,5))\n",
        "plt.bar(list(India_loss['Opposition'].value_counts()[0:3].keys()),list(India_loss['Opposition'].value_counts()[0:3]),color=\"g\")\n",
        "plt.show()  "
      ],
      "execution_count": 29,
      "outputs": [
        {
          "output_type": "display_data",
          "data": {
            "image/png": "[encoded data removed]",
            "text/plain": [
              "<Figure size 576x360 with 1 Axes>"
            ]
          },
          "metadata": {
            "needs_background": "light"
          }
        }
      ]
    },
    {
      "cell_type": "code",
      "metadata": {
        "colab": {
          "base_uri": "https://localhost:8080/",
          "height": 411
        },
        "id": "nJEt5q9mFSVN",
        "outputId": "9003c6c1-a116-4994-c46a-3f4fe287ba08"
      },
      "source": [
        "#Making a pie chart\n",
        "plt.figure(figsize=(7,7))\n",
        "plt.pie(list(India_loss['Opposition'].value_counts()),labels=list(India_loss['Opposition'].value_counts().keys()),autopct='%0.1f%%')\n",
        "plt.show()"
      ],
      "execution_count": 30,
      "outputs": [
        {
          "output_type": "display_data",
          "data": {
            "image/png": "[encoded data removed]",
            "text/plain": [
              "<Figure size 504x504 with 1 Axes>"
            ]
          },
          "metadata": {}
        }
      ]
    },
    {
      "cell_type": "code",
      "metadata": {
        "id": "nKYXRWJ3FW-C"
      },
      "source": [
        "Australia = odi_total[odi_total['Country']=='Australia']  #Australia analysis"
      ],
      "execution_count": 31,
      "outputs": []
    },
    {
      "cell_type": "code",
      "metadata": {
        "colab": {
          "base_uri": "https://localhost:8080/",
          "height": 417
        },
        "id": "lNvSqIP3Fjgl",
        "outputId": "0627a9d4-0740-4f7f-f5cc-bd4641075b3c"
      },
      "source": [
        "Australia"
      ],
      "execution_count": 32,
      "outputs": [
        {
          "output_type": "execute_result",
          "data": {
            "text/html": [
              "<div>\n",
              "<style scoped>\n",
              "    .dataframe tbody tr th:only-of-type {\n",
              "        vertical-align: middle;\n",
              "    }\n",
              "\n",
              "    .dataframe tbody tr th {\n",
              "        vertical-align: top;\n",
              "    }\n",
              "\n",
              "    .dataframe thead th {\n",
              "        text-align: right;\n",
              "    }\n",
              "</style>\n",
              "<table border=\"1\" class=\"dataframe\">\n",
              "  <thead>\n",
              "    <tr style=\"text-align: right;\">\n",
              "      <th></th>\n",
              "      <th>Unnamed: 0</th>\n",
              "      <th>Score</th>\n",
              "      <th>Overs</th>\n",
              "      <th>RPO</th>\n",
              "      <th>Target</th>\n",
              "      <th>Inns</th>\n",
              "      <th>Result</th>\n",
              "      <th>Opposition</th>\n",
              "      <th>Ground</th>\n",
              "      <th>Start Date</th>\n",
              "      <th>Match_ID</th>\n",
              "      <th>Country</th>\n",
              "      <th>Country_ID</th>\n",
              "    </tr>\n",
              "  </thead>\n",
              "  <tbody>\n",
              "    <tr>\n",
              "      <th>5</th>\n",
              "      <td>1076</td>\n",
              "      <td>305/5</td>\n",
              "      <td>50.0</td>\n",
              "      <td>6.10</td>\n",
              "      <td>NaN</td>\n",
              "      <td>1</td>\n",
              "      <td>won</td>\n",
              "      <td>v Sri Lanka</td>\n",
              "      <td>Melbourne</td>\n",
              "      <td>11 Jan 2013</td>\n",
              "      <td>ODI # 3317</td>\n",
              "      <td>Australia</td>\n",
              "      <td>2</td>\n",
              "    </tr>\n",
              "    <tr>\n",
              "      <th>9</th>\n",
              "      <td>1077</td>\n",
              "      <td>170</td>\n",
              "      <td>46.5</td>\n",
              "      <td>3.62</td>\n",
              "      <td>NaN</td>\n",
              "      <td>1</td>\n",
              "      <td>lost</td>\n",
              "      <td>v Sri Lanka</td>\n",
              "      <td>Adelaide</td>\n",
              "      <td>13 Jan 2013</td>\n",
              "      <td>ODI # 3319</td>\n",
              "      <td>Australia</td>\n",
              "      <td>2</td>\n",
              "    </tr>\n",
              "    <tr>\n",
              "      <th>13</th>\n",
              "      <td>1078</td>\n",
              "      <td>74</td>\n",
              "      <td>26.4</td>\n",
              "      <td>2.77</td>\n",
              "      <td>NaN</td>\n",
              "      <td>1</td>\n",
              "      <td>lost</td>\n",
              "      <td>v Sri Lanka</td>\n",
              "      <td>Brisbane</td>\n",
              "      <td>18 Jan 2013</td>\n",
              "      <td>ODI # 3321</td>\n",
              "      <td>Australia</td>\n",
              "      <td>2</td>\n",
              "    </tr>\n",
              "    <tr>\n",
              "      <th>19</th>\n",
              "      <td>1079</td>\n",
              "      <td>222/9</td>\n",
              "      <td>50.0</td>\n",
              "      <td>4.44</td>\n",
              "      <td>NaN</td>\n",
              "      <td>1</td>\n",
              "      <td>n/r</td>\n",
              "      <td>v Sri Lanka</td>\n",
              "      <td>Sydney</td>\n",
              "      <td>20 Jan 2013</td>\n",
              "      <td>ODI # 3324</td>\n",
              "      <td>Australia</td>\n",
              "      <td>2</td>\n",
              "    </tr>\n",
              "    <tr>\n",
              "      <th>23</th>\n",
              "      <td>1080</td>\n",
              "      <td>247/5</td>\n",
              "      <td>50.0</td>\n",
              "      <td>4.94</td>\n",
              "      <td>NaN</td>\n",
              "      <td>1</td>\n",
              "      <td>won</td>\n",
              "      <td>v Sri Lanka</td>\n",
              "      <td>Hobart</td>\n",
              "      <td>23 Jan 2013</td>\n",
              "      <td>ODI # 3326</td>\n",
              "      <td>Australia</td>\n",
              "      <td>2</td>\n",
              "    </tr>\n",
              "    <tr>\n",
              "      <th>...</th>\n",
              "      <td>...</td>\n",
              "      <td>...</td>\n",
              "      <td>...</td>\n",
              "      <td>...</td>\n",
              "      <td>...</td>\n",
              "      <td>...</td>\n",
              "      <td>...</td>\n",
              "      <td>...</td>\n",
              "      <td>...</td>\n",
              "      <td>...</td>\n",
              "      <td>...</td>\n",
              "      <td>...</td>\n",
              "      <td>...</td>\n",
              "    </tr>\n",
              "    <tr>\n",
              "      <th>1265</th>\n",
              "      <td>1202</td>\n",
              "      <td>281/2</td>\n",
              "      <td>49.0</td>\n",
              "      <td>5.73</td>\n",
              "      <td>281.0</td>\n",
              "      <td>2</td>\n",
              "      <td>won</td>\n",
              "      <td>v Pakistan</td>\n",
              "      <td>Sharjah</td>\n",
              "      <td>22 Mar 2019</td>\n",
              "      <td>ODI # 4116</td>\n",
              "      <td>Australia</td>\n",
              "      <td>2</td>\n",
              "    </tr>\n",
              "    <tr>\n",
              "      <th>1267</th>\n",
              "      <td>1203</td>\n",
              "      <td>285/2</td>\n",
              "      <td>47.5</td>\n",
              "      <td>5.95</td>\n",
              "      <td>285.0</td>\n",
              "      <td>2</td>\n",
              "      <td>won</td>\n",
              "      <td>v Pakistan</td>\n",
              "      <td>Sharjah</td>\n",
              "      <td>24 Mar 2019</td>\n",
              "      <td>ODI # 4117</td>\n",
              "      <td>Australia</td>\n",
              "      <td>2</td>\n",
              "    </tr>\n",
              "    <tr>\n",
              "      <th>1269</th>\n",
              "      <td>1204</td>\n",
              "      <td>266/6</td>\n",
              "      <td>50.0</td>\n",
              "      <td>5.32</td>\n",
              "      <td>NaN</td>\n",
              "      <td>1</td>\n",
              "      <td>won</td>\n",
              "      <td>v Pakistan</td>\n",
              "      <td>Abu Dhabi</td>\n",
              "      <td>27 Mar 2019</td>\n",
              "      <td>ODI # 4118</td>\n",
              "      <td>Australia</td>\n",
              "      <td>2</td>\n",
              "    </tr>\n",
              "    <tr>\n",
              "      <th>1271</th>\n",
              "      <td>1205</td>\n",
              "      <td>277/7</td>\n",
              "      <td>50.0</td>\n",
              "      <td>5.54</td>\n",
              "      <td>NaN</td>\n",
              "      <td>1</td>\n",
              "      <td>won</td>\n",
              "      <td>v Pakistan</td>\n",
              "      <td>Dubai (DSC)</td>\n",
              "      <td>29 Mar 2019</td>\n",
              "      <td>ODI # 4119</td>\n",
              "      <td>Australia</td>\n",
              "      <td>2</td>\n",
              "    </tr>\n",
              "    <tr>\n",
              "      <th>1273</th>\n",
              "      <td>1206</td>\n",
              "      <td>327/7</td>\n",
              "      <td>50.0</td>\n",
              "      <td>6.54</td>\n",
              "      <td>NaN</td>\n",
              "      <td>1</td>\n",
              "      <td>won</td>\n",
              "      <td>v Pakistan</td>\n",
              "      <td>Dubai (DSC)</td>\n",
              "      <td>31 Mar 2019</td>\n",
              "      <td>ODI # 4120</td>\n",
              "      <td>Australia</td>\n",
              "      <td>2</td>\n",
              "    </tr>\n",
              "  </tbody>\n",
              "</table>\n",
              "<p>131 rows × 13 columns</p>\n",
              "</div>"
            ],
            "text/plain": [
              "      Unnamed: 0  Score  Overs  ...    Match_ID    Country  Country_ID\n",
              "5           1076  305/5   50.0  ...  ODI # 3317  Australia           2\n",
              "9           1077    170   46.5  ...  ODI # 3319  Australia           2\n",
              "13          1078     74   26.4  ...  ODI # 3321  Australia           2\n",
              "19          1079  222/9   50.0  ...  ODI # 3324  Australia           2\n",
              "23          1080  247/5   50.0  ...  ODI # 3326  Australia           2\n",
              "...          ...    ...    ...  ...         ...        ...         ...\n",
              "1265        1202  281/2   49.0  ...  ODI # 4116  Australia           2\n",
              "1267        1203  285/2   47.5  ...  ODI # 4117  Australia           2\n",
              "1269        1204  266/6   50.0  ...  ODI # 4118  Australia           2\n",
              "1271        1205  277/7   50.0  ...  ODI # 4119  Australia           2\n",
              "1273        1206  327/7   50.0  ...  ODI # 4120  Australia           2\n",
              "\n",
              "[131 rows x 13 columns]"
            ]
          },
          "metadata": {},
          "execution_count": 32
        }
      ]
    },
    {
      "cell_type": "code",
      "metadata": {
        "id": "CG9ewY4kFoOp"
      },
      "source": [
        "Australia_win = Australia[Australia['Result']=='won']"
      ],
      "execution_count": 33,
      "outputs": []
    },
    {
      "cell_type": "code",
      "metadata": {
        "colab": {
          "base_uri": "https://localhost:8080/"
        },
        "id": "kvkPHitiFtOJ",
        "outputId": "8899a65e-00fe-4a3f-f270-44238b58374a"
      },
      "source": [
        "Australia_win['Opposition'].value_counts()"
      ],
      "execution_count": 34,
      "outputs": [
        {
          "output_type": "execute_result",
          "data": {
            "text/plain": [
              "v England         14\n",
              "v India           13\n",
              "v Pakistan        13\n",
              "v West Indies      8\n",
              "v Sri Lanka        7\n",
              "v South Africa     7\n",
              "v New Zealand      5\n",
              "v Scotland         2\n",
              "v Ireland          2\n",
              "v Afghanistan      1\n",
              "v Zimbabwe         1\n",
              "Name: Opposition, dtype: int64"
            ]
          },
          "metadata": {},
          "execution_count": 34
        }
      ]
    },
    {
      "cell_type": "code",
      "metadata": {
        "colab": {
          "base_uri": "https://localhost:8080/",
          "height": 320
        },
        "id": "2BA8h88JFxaG",
        "outputId": "56135c64-19ba-4d87-fa16-dd351fb6a035"
      },
      "source": [
        "plt.figure(figsize=(8,5))\n",
        "plt.bar(list(Australia_win['Opposition'].value_counts()[0:3].keys()),list(Australia_win['Opposition'].value_counts()[0:3]),color=\"purple\")\n",
        "plt.show()    "
      ],
      "execution_count": 36,
      "outputs": [
        {
          "output_type": "display_data",
          "data": {
            "image/png": "[encoded data removed]",
            "text/plain": [
              "<Figure size 576x360 with 1 Axes>"
            ]
          },
          "metadata": {
            "needs_background": "light"
          }
        }
      ]
    },
    {
      "cell_type": "code",
      "metadata": {
        "id": "ZOly_u9LF2RT"
      },
      "source": [
        "Australia_loss = Australia[Australia['Result']=='lost']"
      ],
      "execution_count": 37,
      "outputs": []
    },
    {
      "cell_type": "code",
      "metadata": {
        "colab": {
          "base_uri": "https://localhost:8080/"
        },
        "id": "QvR1BZBfF7Yw",
        "outputId": "3291e702-4584-4a15-f0c3-65c1b3018f54"
      },
      "source": [
        "Australia_loss['Opposition'].value_counts()"
      ],
      "execution_count": 38,
      "outputs": [
        {
          "output_type": "execute_result",
          "data": {
            "text/plain": [
              "v England         15\n",
              "v India           12\n",
              "v South Africa    11\n",
              "v New Zealand      5\n",
              "v Sri Lanka        4\n",
              "v Zimbabwe         1\n",
              "v Pakistan         1\n",
              "v West Indies      1\n",
              "Name: Opposition, dtype: int64"
            ]
          },
          "metadata": {},
          "execution_count": 38
        }
      ]
    },
    {
      "cell_type": "code",
      "metadata": {
        "colab": {
          "base_uri": "https://localhost:8080/",
          "height": 417
        },
        "id": "F39uK_IGF8nb",
        "outputId": "009b04f8-16e5-4df4-d178-f5619f281fed"
      },
      "source": [
        "England = odi_total[odi_total['Country']=='England']  #England Analysis\n",
        "England"
      ],
      "execution_count": 39,
      "outputs": [
        {
          "output_type": "execute_result",
          "data": {
            "text/html": [
              "<div>\n",
              "<style scoped>\n",
              "    .dataframe tbody tr th:only-of-type {\n",
              "        vertical-align: middle;\n",
              "    }\n",
              "\n",
              "    .dataframe tbody tr th {\n",
              "        vertical-align: top;\n",
              "    }\n",
              "\n",
              "    .dataframe thead th {\n",
              "        text-align: right;\n",
              "    }\n",
              "</style>\n",
              "<table border=\"1\" class=\"dataframe\">\n",
              "  <thead>\n",
              "    <tr style=\"text-align: right;\">\n",
              "      <th></th>\n",
              "      <th>Unnamed: 0</th>\n",
              "      <th>Score</th>\n",
              "      <th>Overs</th>\n",
              "      <th>RPO</th>\n",
              "      <th>Target</th>\n",
              "      <th>Inns</th>\n",
              "      <th>Result</th>\n",
              "      <th>Opposition</th>\n",
              "      <th>Ground</th>\n",
              "      <th>Start Date</th>\n",
              "      <th>Match_ID</th>\n",
              "      <th>Country</th>\n",
              "      <th>Country_ID</th>\n",
              "    </tr>\n",
              "  </thead>\n",
              "  <tbody>\n",
              "    <tr>\n",
              "      <th>7</th>\n",
              "      <td>836</td>\n",
              "      <td>325/4</td>\n",
              "      <td>50.0</td>\n",
              "      <td>6.50</td>\n",
              "      <td>NaN</td>\n",
              "      <td>1</td>\n",
              "      <td>won</td>\n",
              "      <td>v India</td>\n",
              "      <td>Rajkot</td>\n",
              "      <td>11 Jan 2013</td>\n",
              "      <td>ODI # 3318</td>\n",
              "      <td>England</td>\n",
              "      <td>1</td>\n",
              "    </tr>\n",
              "    <tr>\n",
              "      <th>11</th>\n",
              "      <td>837</td>\n",
              "      <td>158</td>\n",
              "      <td>36.0</td>\n",
              "      <td>4.38</td>\n",
              "      <td>286.0</td>\n",
              "      <td>2</td>\n",
              "      <td>lost</td>\n",
              "      <td>v India</td>\n",
              "      <td>Kochi</td>\n",
              "      <td>15 Jan 2013</td>\n",
              "      <td>ODI # 3320</td>\n",
              "      <td>England</td>\n",
              "      <td>1</td>\n",
              "    </tr>\n",
              "    <tr>\n",
              "      <th>15</th>\n",
              "      <td>838</td>\n",
              "      <td>155</td>\n",
              "      <td>42.2</td>\n",
              "      <td>3.66</td>\n",
              "      <td>NaN</td>\n",
              "      <td>1</td>\n",
              "      <td>lost</td>\n",
              "      <td>v India</td>\n",
              "      <td>Ranchi</td>\n",
              "      <td>19 Jan 2013</td>\n",
              "      <td>ODI # 3322</td>\n",
              "      <td>England</td>\n",
              "      <td>1</td>\n",
              "    </tr>\n",
              "    <tr>\n",
              "      <th>25</th>\n",
              "      <td>839</td>\n",
              "      <td>257/7</td>\n",
              "      <td>50.0</td>\n",
              "      <td>5.14</td>\n",
              "      <td>NaN</td>\n",
              "      <td>1</td>\n",
              "      <td>lost</td>\n",
              "      <td>v India</td>\n",
              "      <td>Mohali</td>\n",
              "      <td>23 Jan 2013</td>\n",
              "      <td>ODI # 3327</td>\n",
              "      <td>England</td>\n",
              "      <td>1</td>\n",
              "    </tr>\n",
              "    <tr>\n",
              "      <th>29</th>\n",
              "      <td>840</td>\n",
              "      <td>227/3</td>\n",
              "      <td>47.2</td>\n",
              "      <td>4.79</td>\n",
              "      <td>227.0</td>\n",
              "      <td>2</td>\n",
              "      <td>won</td>\n",
              "      <td>v India</td>\n",
              "      <td>Dharamsala</td>\n",
              "      <td>27 Jan 2013</td>\n",
              "      <td>ODI # 3329</td>\n",
              "      <td>England</td>\n",
              "      <td>1</td>\n",
              "    </tr>\n",
              "    <tr>\n",
              "      <th>...</th>\n",
              "      <td>...</td>\n",
              "      <td>...</td>\n",
              "      <td>...</td>\n",
              "      <td>...</td>\n",
              "      <td>...</td>\n",
              "      <td>...</td>\n",
              "      <td>...</td>\n",
              "      <td>...</td>\n",
              "      <td>...</td>\n",
              "      <td>...</td>\n",
              "      <td>...</td>\n",
              "      <td>...</td>\n",
              "      <td>...</td>\n",
              "    </tr>\n",
              "    <tr>\n",
              "      <th>1279</th>\n",
              "      <td>976</td>\n",
              "      <td>DNB</td>\n",
              "      <td>0.0</td>\n",
              "      <td>-</td>\n",
              "      <td>NaN</td>\n",
              "      <td>0</td>\n",
              "      <td>n/r</td>\n",
              "      <td>v Pakistan</td>\n",
              "      <td>The Oval</td>\n",
              "      <td>8 May 2019</td>\n",
              "      <td>ODI # 4130</td>\n",
              "      <td>England</td>\n",
              "      <td>1</td>\n",
              "    </tr>\n",
              "    <tr>\n",
              "      <th>1283</th>\n",
              "      <td>977</td>\n",
              "      <td>373/3</td>\n",
              "      <td>50.0</td>\n",
              "      <td>7.46</td>\n",
              "      <td>NaN</td>\n",
              "      <td>1</td>\n",
              "      <td>won</td>\n",
              "      <td>v Pakistan</td>\n",
              "      <td>Southampton</td>\n",
              "      <td>11 May 2019</td>\n",
              "      <td>ODI # 4133</td>\n",
              "      <td>England</td>\n",
              "      <td>1</td>\n",
              "    </tr>\n",
              "    <tr>\n",
              "      <th>1287</th>\n",
              "      <td>978</td>\n",
              "      <td>359/4</td>\n",
              "      <td>44.5</td>\n",
              "      <td>8.00</td>\n",
              "      <td>359.0</td>\n",
              "      <td>2</td>\n",
              "      <td>won</td>\n",
              "      <td>v Pakistan</td>\n",
              "      <td>Bristol</td>\n",
              "      <td>14 May 2019</td>\n",
              "      <td>ODI # 4135</td>\n",
              "      <td>England</td>\n",
              "      <td>1</td>\n",
              "    </tr>\n",
              "    <tr>\n",
              "      <th>1292</th>\n",
              "      <td>979</td>\n",
              "      <td>341/7</td>\n",
              "      <td>49.3</td>\n",
              "      <td>6.88</td>\n",
              "      <td>341.0</td>\n",
              "      <td>2</td>\n",
              "      <td>won</td>\n",
              "      <td>v Pakistan</td>\n",
              "      <td>Nottingham</td>\n",
              "      <td>17 May 2019</td>\n",
              "      <td>ODI # 4138</td>\n",
              "      <td>England</td>\n",
              "      <td>1</td>\n",
              "    </tr>\n",
              "    <tr>\n",
              "      <th>1295</th>\n",
              "      <td>980</td>\n",
              "      <td>351/9</td>\n",
              "      <td>50.0</td>\n",
              "      <td>7.02</td>\n",
              "      <td>NaN</td>\n",
              "      <td>1</td>\n",
              "      <td>-</td>\n",
              "      <td>v Pakistan</td>\n",
              "      <td>Leeds</td>\n",
              "      <td>19 May 2019</td>\n",
              "      <td>ODI # 4140</td>\n",
              "      <td>England</td>\n",
              "      <td>1</td>\n",
              "    </tr>\n",
              "  </tbody>\n",
              "</table>\n",
              "<p>145 rows × 13 columns</p>\n",
              "</div>"
            ],
            "text/plain": [
              "      Unnamed: 0  Score  Overs  ...    Match_ID  Country  Country_ID\n",
              "7            836  325/4   50.0  ...  ODI # 3318  England           1\n",
              "11           837    158   36.0  ...  ODI # 3320  England           1\n",
              "15           838    155   42.2  ...  ODI # 3322  England           1\n",
              "25           839  257/7   50.0  ...  ODI # 3327  England           1\n",
              "29           840  227/3   47.2  ...  ODI # 3329  England           1\n",
              "...          ...    ...    ...  ...         ...      ...         ...\n",
              "1279         976    DNB    0.0  ...  ODI # 4130  England           1\n",
              "1283         977  373/3   50.0  ...  ODI # 4133  England           1\n",
              "1287         978  359/4   44.5  ...  ODI # 4135  England           1\n",
              "1292         979  341/7   49.3  ...  ODI # 4138  England           1\n",
              "1295         980  351/9   50.0  ...  ODI # 4140  England           1\n",
              "\n",
              "[145 rows x 13 columns]"
            ]
          },
          "metadata": {},
          "execution_count": 39
        }
      ]
    },
    {
      "cell_type": "code",
      "metadata": {
        "colab": {
          "base_uri": "https://localhost:8080/"
        },
        "id": "PpPvP09WGFdL",
        "outputId": "e7d323d1-d9d5-41a5-9136-07e8a8bcb341"
      },
      "source": [
        "England_win = England[England['Result']=='won']\n",
        "England_win['Opposition'].value_counts()"
      ],
      "execution_count": 40,
      "outputs": [
        {
          "output_type": "execute_result",
          "data": {
            "text/plain": [
              "v Australia       15\n",
              "v New Zealand     11\n",
              "v West Indies     11\n",
              "v Pakistan        10\n",
              "v Sri Lanka       10\n",
              "v India            8\n",
              "v South Africa     5\n",
              "v Ireland          4\n",
              "v Bangladesh       3\n",
              "v Scotland         2\n",
              "v Afghanistan      1\n",
              "Name: Opposition, dtype: int64"
            ]
          },
          "metadata": {},
          "execution_count": 40
        }
      ]
    },
    {
      "cell_type": "code",
      "metadata": {
        "colab": {
          "base_uri": "https://localhost:8080/"
        },
        "id": "SwZNQx6CGL0n",
        "outputId": "c058213b-9ab8-4d2b-931e-c894abbafaec"
      },
      "source": [
        "England_loss = England[England['Result']=='lost']\n",
        "England_loss['Opposition'].value_counts()"
      ],
      "execution_count": 41,
      "outputs": [
        {
          "output_type": "execute_result",
          "data": {
            "text/plain": [
              "v Australia       14\n",
              "v Sri Lanka       11\n",
              "v India           10\n",
              "v New Zealand      8\n",
              "v South Africa     4\n",
              "v Pakistan         3\n",
              "v West Indies      3\n",
              "v Bangladesh       2\n",
              "v Scotland         1\n",
              "Name: Opposition, dtype: int64"
            ]
          },
          "metadata": {},
          "execution_count": 41
        }
      ]
    }
  ]
}